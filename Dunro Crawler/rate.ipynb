{
 "cells": [
  {
   "cell_type": "code",
   "execution_count": 2,
   "metadata": {
    "collapsed": true
   },
   "outputs": [],
   "source": [
    "import requests\n",
    "import json"
   ]
  },
  {
   "cell_type": "code",
   "execution_count": 7,
   "metadata": {
    "collapsed": true
   },
   "outputs": [],
   "source": [
    "def rate(page):\n",
    "    data = {\n",
    "      'popular' : 1,\n",
    "      'reliable' : 1,\n",
    "      'credible' : 1\n",
    "    }\n",
    "    cookie = {\n",
    "    'laravel_session': 'eyJpdiI6IkpKRWJucWlDcXhtKzhKc3YxSHFvakE9PSIsInZhbHVlIjoiZ0hrekppeUpBMkFEQncrUVd0T0hUSzJpUFBZV0dCMGhjbE00Rk9kWHg1Y0M3RFZGQWI0SkViWlc4VmRNalN4dTFQSERESnRXV2Q0ZmxpTU1mWWN2RkE9PSIsIm1hYyI6ImQzMjdiNTJmYjQ5YTU2MjQ1OWI4ZGY5ODg3YzFhN2EwMmJhNjEwOWMwOThkYmMzOWJhNDk2NGE3YzZlMDJjYzAifQ%3D%3D'\n",
    "    }\n",
    "    \n",
    "    r = requests.post('http://dunro.com/api/v1.1/page/'+ page + '/rate', data=data, cookies=cookie)\n",
    "    return json.loads(r.text)['data']"
   ]
  },
  {
   "cell_type": "code",
   "execution_count": 4,
   "metadata": {
    "collapsed": true
   },
   "outputs": [],
   "source": [
    "%store -r data"
   ]
  },
  {
   "cell_type": "code",
   "execution_count": 9,
   "metadata": {},
   "outputs": [
    {
     "data": {
      "text/plain": [
       "True"
      ]
     },
     "execution_count": 9,
     "metadata": {},
     "output_type": "execute_result"
    }
   ],
   "source": [
    "rate('54adcfcac7430')"
   ]
  },
  {
   "cell_type": "code",
   "execution_count": null,
   "metadata": {
    "collapsed": true
   },
   "outputs": [],
   "source": [
    "35.70423,51.41814 53f198c067804\n",
    "35.70197,51.41291 53f198f60dd95\n",
    "35.70071,51.39289 54adcfcac7430\n",
    "35.70301,51.43536 53f198f1bc8f4\n",
    "35.70565,51.42894 53f199234b25d\n",
    "35.69930294,51.39899969 5549dcd0e0d4c"
   ]
  }
 ],
 "metadata": {
  "kernelspec": {
   "display_name": "Python 2",
   "language": "python",
   "name": "python2"
  },
  "language_info": {
   "codemirror_mode": {
    "name": "ipython",
    "version": 2
   },
   "file_extension": ".py",
   "mimetype": "text/x-python",
   "name": "python",
   "nbconvert_exporter": "python",
   "pygments_lexer": "ipython2",
   "version": "2.7.13"
  }
 },
 "nbformat": 4,
 "nbformat_minor": 2
}
